{
 "cells": [
  {
   "cell_type": "code",
   "execution_count": null,
   "id": "1cdeeacb",
   "metadata": {
    "scrolled": true
   },
   "outputs": [],
   "source": [
    "#exp1 - 8 Puzzle Problem\n",
    "\n"
   ]
  },
  {
   "cell_type": "code",
   "execution_count": 23,
   "id": "1226d154",
   "metadata": {},
   "outputs": [
    {
     "name": "stdout",
     "output_type": "stream",
     "text": [
      "All rooms are dirty\n",
      "\n",
      "[[1, 1, 1, 1], [1, 1, 1, 1], [1, 1, 1, 1], [1, 1, 1, 1]]\n",
      "\n",
      " New State of the room\n",
      "\n",
      "[[1, 1, 1, 0], [0, 1, 1, 0], [0, 0, 0, 0], [1, 0, 0, 0]]\n",
      "Cleaning done at location  0 0\n",
      "Cleaning done at location  0 1\n",
      "Cleaning done at location  0 2\n",
      "Cleaning done at location  1 1\n",
      "Cleaning done at location  1 2\n",
      "Cleaning done at location  3 0\n",
      "62.5\n"
     ]
    }
   ],
   "source": [
    "#exp2\n",
    "\n",
    "import random\n",
    "\n",
    "def display(room):\n",
    "    print(room)\n",
    "    \n",
    "room=[\n",
    "    [1,1,1,1],\n",
    "    [1,1,1,1],\n",
    "    [1,1,1,1],\n",
    "    [1,1,1,1]\n",
    "     ]\n",
    "\n",
    "print(\"All rooms are dirty\\n\")\n",
    "display(room)\n",
    "\n",
    "x=0\n",
    "y=0\n",
    "\n",
    "while x<4:\n",
    "    while y<4:\n",
    "        room[x][y]=random.choice([0,1])\n",
    "        y+=1\n",
    "    x+=1\n",
    "    y=0\n",
    "    \n",
    "print(\"\\n New State of the room\\n\")\n",
    "display(room)\n",
    "\n",
    "\n",
    "x=0\n",
    "y=0\n",
    "z=0\n",
    "\n",
    "\n",
    "while x<4:\n",
    "    while y<4:\n",
    "        if room[x][y] == 1:\n",
    "            print(\"Cleaning done at location \",x,y)\n",
    "            room[x][y]=0\n",
    "            z+=1\n",
    "        y+=1\n",
    "    x+=1\n",
    "    y=0\n",
    "    \n",
    "    \n",
    "per=100-((z/16)*100)\n",
    "print(per)"
   ]
  },
  {
   "cell_type": "code",
   "execution_count": 31,
   "id": "78532e7d",
   "metadata": {},
   "outputs": [
    {
     "name": "stdout",
     "output_type": "stream",
     "text": [
      "BFS\n",
      "5 3 7 2 4 8 "
     ]
    }
   ],
   "source": [
    "#exp3 bfs\n",
    "  \n",
    "graph={\n",
    "    '5':['3','7'],\n",
    "    '3':['2','4'],\n",
    "    '7':['8'],\n",
    "    '2':[],\n",
    "    '4':['8'],\n",
    "    '8':[]\n",
    "}\n",
    "\n",
    "\n",
    "visited=[]\n",
    "queue=[]\n",
    "\n",
    "def bfs(visited,graph,node):\n",
    "    visited.append(node)\n",
    "    queue.append(node)\n",
    "    \n",
    "    while queue:\n",
    "        m=queue.pop(0)\n",
    "        print(m,end=\" \")\n",
    "        \n",
    "        for neighbour in graph[m]:\n",
    "            if neighbour not in visited:\n",
    "                visited.append(neighbour)\n",
    "                queue.append(neighbour)\n",
    "\n",
    "print(\"BFS\")                \n",
    "bfs(visited,graph,'5')\n",
    "        \n",
    "    \n"
   ]
  },
  {
   "cell_type": "code",
   "execution_count": null,
   "id": "cfba5aea",
   "metadata": {},
   "outputs": [],
   "source": []
  },
  {
   "cell_type": "code",
   "execution_count": null,
   "id": "282ce778",
   "metadata": {},
   "outputs": [],
   "source": []
  },
  {
   "cell_type": "code",
   "execution_count": null,
   "id": "e12ab189",
   "metadata": {},
   "outputs": [],
   "source": []
  }
 ],
 "metadata": {
  "kernelspec": {
   "display_name": "Python 3 (ipykernel)",
   "language": "python",
   "name": "python3"
  },
  "language_info": {
   "codemirror_mode": {
    "name": "ipython",
    "version": 3
   },
   "file_extension": ".py",
   "mimetype": "text/x-python",
   "name": "python",
   "nbconvert_exporter": "python",
   "pygments_lexer": "ipython3",
   "version": "3.11.3"
  }
 },
 "nbformat": 4,
 "nbformat_minor": 5
}
